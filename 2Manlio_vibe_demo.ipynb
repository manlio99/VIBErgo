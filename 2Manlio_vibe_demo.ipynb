{
  "nbformat": 4,
  "nbformat_minor": 0,
  "metadata": {
    "colab": {
      "name": "2Manlio_vibe_demo.ipynb",
      "provenance": [],
      "collapsed_sections": [],
      "include_colab_link": true
    },
    "kernelspec": {
      "name": "python3",
      "display_name": "Python 3"
    },
    "accelerator": "GPU"
  },
  "cells": [
    {
      "cell_type": "markdown",
      "metadata": {
        "id": "view-in-github",
        "colab_type": "text"
      },
      "source": [
        "<a href=\"https://colab.research.google.com/github/manlio99/VIBErgo/blob/master/2Manlio_vibe_demo.ipynb\" target=\"_parent\"><img src=\"https://colab.research.google.com/assets/colab-badge.svg\" alt=\"Open In Colab\"/></a>"
      ]
    },
    {
      "cell_type": "markdown",
      "metadata": {
        "id": "9QmY4dDYpmfB"
      },
      "source": [
        "# VIBE: Video Inference for Human Body Pose and Shape Estimation\n",
        "\n",
        "Demo of the original PyTorch based implementation provided here: https://github.com/mkocabas/VIBE\n",
        "\n",
        "## Note\n",
        "Before running this notebook make sure that your runtime type is 'Python 3 with GPU acceleration'. Go to Edit > Notebook settings > Hardware Accelerator > Select \"GPU\".\n",
        "\n",
        "## More Info\n",
        "- Paper: https://arxiv.org/abs/1912.05656\n",
        "- Repo: https://github.com/mkocabas/VIBE"
      ]
    },
    {
      "cell_type": "code",
      "metadata": {
        "id": "0fGVMvI0WNx2",
        "colab": {
          "base_uri": "https://localhost:8080/"
        },
        "outputId": "f2efc45c-69f0-4588-e9ba-1988a39ee69b"
      },
      "source": [
        "from google.colab import drive\n",
        "drive.mount('/content/drive')\n",
        "##"
      ],
      "execution_count": 1,
      "outputs": [
        {
          "output_type": "stream",
          "text": [
            "Mounted at /content/drive\n"
          ],
          "name": "stdout"
        }
      ]
    },
    {
      "cell_type": "code",
      "metadata": {
        "colab": {
          "base_uri": "https://localhost:8080/"
        },
        "id": "ZrPL1EJf_6Jh",
        "outputId": "1ccf3148-d17c-41b6-a01a-9aa38c6a5297"
      },
      "source": [
        "!git clone https://github.com/manlio99/vibe.git\n",
        "%cd vibe/"
      ],
      "execution_count": 2,
      "outputs": [
        {
          "output_type": "stream",
          "text": [
            "Cloning into 'vibe'...\n",
            "remote: Enumerating objects: 389, done.\u001b[K\n",
            "remote: Counting objects: 100% (389/389), done.\u001b[K\n",
            "remote: Compressing objects: 100% (177/177), done.\u001b[K\n",
            "remote: Total 389 (delta 206), reused 382 (delta 203), pack-reused 0\u001b[K\n",
            "Receiving objects: 100% (389/389), 15.07 MiB | 29.27 MiB/s, done.\n",
            "Resolving deltas: 100% (206/206), done.\n",
            "/content/vibe\n"
          ],
          "name": "stdout"
        }
      ]
    },
    {
      "cell_type": "code",
      "metadata": {
        "id": "Rs6UTvVO6Fxf",
        "colab": {
          "base_uri": "https://localhost:8080/",
          "height": 1000
        },
        "outputId": "b68b0f72-daad-4033-e50c-e98d98d629bd"
      },
      "source": [
        "# Install the other requirements\n",
        "!pip install torch==1.4.0 numpy==1.17.5\n",
        "#!pip install git+https://github.com/giacaglia/pytube.git --upgrade\n",
        "!pip install -r requirements.txt"
      ],
      "execution_count": 3,
      "outputs": [
        {
          "output_type": "stream",
          "text": [
            "Collecting torch==1.4.0\n",
            "\u001b[?25l  Downloading https://files.pythonhosted.org/packages/1a/3b/fa92ece1e58a6a48ec598bab327f39d69808133e5b2fb33002ca754e381e/torch-1.4.0-cp37-cp37m-manylinux1_x86_64.whl (753.4MB)\n",
            "\u001b[K     |████████████████████████████████| 753.4MB 19kB/s \n",
            "\u001b[?25hCollecting numpy==1.17.5\n",
            "\u001b[?25l  Downloading https://files.pythonhosted.org/packages/b1/51/20098150b6108061cb7542af3de7bfcfe0182bca21613697153e49dc4adc/numpy-1.17.5-cp37-cp37m-manylinux1_x86_64.whl (20.0MB)\n",
            "\u001b[K     |████████████████████████████████| 20.0MB 78.8MB/s \n",
            "\u001b[31mERROR: torchvision 0.9.0+cu101 has requirement torch==1.8.0, but you'll have torch 1.4.0 which is incompatible.\u001b[0m\n",
            "\u001b[31mERROR: torchtext 0.9.0 has requirement torch==1.8.0, but you'll have torch 1.4.0 which is incompatible.\u001b[0m\n",
            "\u001b[31mERROR: tensorflow 2.4.1 has requirement numpy~=1.19.2, but you'll have numpy 1.17.5 which is incompatible.\u001b[0m\n",
            "\u001b[31mERROR: datascience 0.10.6 has requirement folium==0.2.1, but you'll have folium 0.8.3 which is incompatible.\u001b[0m\n",
            "\u001b[31mERROR: albumentations 0.1.12 has requirement imgaug<0.2.7,>=0.2.5, but you'll have imgaug 0.2.9 which is incompatible.\u001b[0m\n",
            "\u001b[?25hInstalling collected packages: torch, numpy\n",
            "  Found existing installation: torch 1.8.0+cu101\n",
            "    Uninstalling torch-1.8.0+cu101:\n",
            "      Successfully uninstalled torch-1.8.0+cu101\n",
            "  Found existing installation: numpy 1.19.5\n",
            "    Uninstalling numpy-1.19.5:\n",
            "      Successfully uninstalled numpy-1.19.5\n",
            "Successfully installed numpy-1.17.5 torch-1.4.0\n"
          ],
          "name": "stdout"
        },
        {
          "output_type": "display_data",
          "data": {
            "application/vnd.colab-display-data+json": {
              "pip_warning": {
                "packages": [
                  "numpy"
                ]
              }
            }
          },
          "metadata": {
            "tags": []
          }
        },
        {
          "output_type": "stream",
          "text": [
            "Collecting git+https://github.com/mattloper/chumpy.git (from -r requirements.txt (line 24))\n",
            "  Cloning https://github.com/mattloper/chumpy.git to /tmp/pip-req-build-2h84mix7\n",
            "  Running command git clone -q https://github.com/mattloper/chumpy.git /tmp/pip-req-build-2h84mix7\n",
            "Collecting git+https://github.com/mkocabas/yolov3-pytorch.git (from -r requirements.txt (line 25))\n",
            "  Cloning https://github.com/mkocabas/yolov3-pytorch.git to /tmp/pip-req-build-1w5bfi_n\n",
            "  Running command git clone -q https://github.com/mkocabas/yolov3-pytorch.git /tmp/pip-req-build-1w5bfi_n\n",
            "Collecting git+https://github.com/mkocabas/multi-person-tracker.git (from -r requirements.txt (line 26))\n",
            "  Cloning https://github.com/mkocabas/multi-person-tracker.git to /tmp/pip-req-build-r374ne3m\n",
            "  Running command git clone -q https://github.com/mkocabas/multi-person-tracker.git /tmp/pip-req-build-r374ne3m\n",
            "Collecting tqdm==4.28.1\n",
            "\u001b[?25l  Downloading https://files.pythonhosted.org/packages/91/55/8cb23a97301b177e9c8e3226dba45bb454411de2cbd25746763267f226c2/tqdm-4.28.1-py2.py3-none-any.whl (45kB)\n",
            "\u001b[K     |████████████████████████████████| 51kB 4.0MB/s \n",
            "\u001b[?25hCollecting yacs==0.1.6\n",
            "  Downloading https://files.pythonhosted.org/packages/2f/51/9d613d67a8561a0cdf696c3909870f157ed85617fea3cff769bb7de09ef7/yacs-0.1.6-py3-none-any.whl\n",
            "Requirement already satisfied: h5py==2.10.0 in /usr/local/lib/python3.7/dist-packages (from -r requirements.txt (line 3)) (2.10.0)\n",
            "Requirement already satisfied: numpy==1.17.5 in /usr/local/lib/python3.7/dist-packages (from -r requirements.txt (line 4)) (1.17.5)\n",
            "Requirement already satisfied: scipy==1.4.1 in /usr/local/lib/python3.7/dist-packages (from -r requirements.txt (line 5)) (1.4.1)\n",
            "Collecting numba==0.47.0\n",
            "\u001b[?25l  Downloading https://files.pythonhosted.org/packages/8f/d7/9f0a9e1b173fddc77ad6cb8943bc433a850c2a6d3fa5c02a086400ba0c8f/numba-0.47.0-cp37-cp37m-manylinux1_x86_64.whl (3.7MB)\n",
            "\u001b[K     |████████████████████████████████| 3.7MB 10.3MB/s \n",
            "\u001b[?25hCollecting smplx==0.1.26\n",
            "  Downloading https://files.pythonhosted.org/packages/20/51/cd68a91ce99e9fa958128eb76d8ae4759124cd7326aa9e745d7e13b4e3bd/smplx-0.1.26-py3-none-any.whl\n",
            "Requirement already satisfied: gdown==3.6.4 in /usr/local/lib/python3.7/dist-packages (from -r requirements.txt (line 8)) (3.6.4)\n",
            "Collecting PyYAML==5.3.1\n",
            "\u001b[?25l  Downloading https://files.pythonhosted.org/packages/64/c2/b80047c7ac2478f9501676c988a5411ed5572f35d1beff9cae07d321512c/PyYAML-5.3.1.tar.gz (269kB)\n",
            "\u001b[K     |████████████████████████████████| 276kB 34.9MB/s \n",
            "\u001b[?25hCollecting joblib==0.14.1\n",
            "\u001b[?25l  Downloading https://files.pythonhosted.org/packages/28/5c/cf6a2b65a321c4a209efcdf64c2689efae2cb62661f8f6f4bb28547cf1bf/joblib-0.14.1-py2.py3-none-any.whl (294kB)\n",
            "\u001b[K     |████████████████████████████████| 296kB 50.6MB/s \n",
            "\u001b[?25hCollecting pillow==7.1.0\n",
            "\u001b[?25l  Downloading https://files.pythonhosted.org/packages/1f/a9/fcc75da673de2effd440072ea1bd6892cbf5f7bfc0a140c9d691a457147b/Pillow-7.1.0-cp37-cp37m-manylinux1_x86_64.whl (2.1MB)\n",
            "\u001b[K     |████████████████████████████████| 2.1MB 54.1MB/s \n",
            "\u001b[?25hCollecting trimesh==3.5.25\n",
            "\u001b[?25l  Downloading https://files.pythonhosted.org/packages/49/27/ef35230cfa6ac06db56078ff025ecc19605b3a10a38b7a96b0461737cf21/trimesh-3.5.25.tar.gz (399kB)\n",
            "\u001b[K     |████████████████████████████████| 409kB 45.6MB/s \n",
            "\u001b[?25hCollecting pyrender==0.1.36\n",
            "\u001b[?25l  Downloading https://files.pythonhosted.org/packages/e0/09/4c72228de4f91d3192715f505e9b7d4ad8eb26150ef4b6b622138ca445e6/pyrender-0.1.36-py3-none-any.whl (1.2MB)\n",
            "\u001b[K     |████████████████████████████████| 1.2MB 48.9MB/s \n",
            "\u001b[?25hCollecting progress==1.5\n",
            "  Downloading https://files.pythonhosted.org/packages/38/ef/2e887b3d2b248916fc2121889ce68af8a16aaddbe82f9ae6533c24ff0d2b/progress-1.5.tar.gz\n",
            "Collecting filterpy==1.4.5\n",
            "\u001b[?25l  Downloading https://files.pythonhosted.org/packages/f6/1d/ac8914360460fafa1990890259b7fa5ef7ba4cd59014e782e4ab3ab144d8/filterpy-1.4.5.zip (177kB)\n",
            "\u001b[K     |████████████████████████████████| 184kB 50.8MB/s \n",
            "\u001b[?25hCollecting matplotlib==3.1.3\n",
            "\u001b[?25l  Downloading https://files.pythonhosted.org/packages/4c/9b/35ab3469fd1509f7636a344940569ebfd33239673fd2318e80b4700a257c/matplotlib-3.1.3-cp37-cp37m-manylinux1_x86_64.whl (13.1MB)\n",
            "\u001b[K     |████████████████████████████████| 13.1MB 49.3MB/s \n",
            "\u001b[?25hCollecting tensorflow==1.15.4\n",
            "\u001b[?25l  Downloading https://files.pythonhosted.org/packages/04/9f/18e031f52c46b4c63f6a6f064cd2dd85a2f730ca5dc44ef2f25375990dce/tensorflow-1.15.4-cp37-cp37m-manylinux2010_x86_64.whl (110.5MB)\n",
            "\u001b[K     |████████████████████████████████| 110.5MB 102kB/s \n",
            "\u001b[?25hCollecting tensorboard==2.1.0\n",
            "\u001b[?25l  Downloading https://files.pythonhosted.org/packages/40/23/53ffe290341cd0855d595b0a2e7485932f473798af173bbe3a584b99bb06/tensorboard-2.1.0-py3-none-any.whl (3.8MB)\n",
            "\u001b[K     |████████████████████████████████| 3.8MB 50.0MB/s \n",
            "\u001b[?25hCollecting torchvision==0.5.0\n",
            "\u001b[?25l  Downloading https://files.pythonhosted.org/packages/1c/32/cb0e4c43cd717da50258887b088471568990b5a749784c465a8a1962e021/torchvision-0.5.0-cp37-cp37m-manylinux1_x86_64.whl (4.0MB)\n",
            "\u001b[K     |████████████████████████████████| 4.0MB 55.1MB/s \n",
            "\u001b[?25hRequirement already satisfied: scikit-image==0.16.2 in /usr/local/lib/python3.7/dist-packages (from -r requirements.txt (line 20)) (0.16.2)\n",
            "Collecting scikit-video==1.1.11\n",
            "\u001b[?25l  Downloading https://files.pythonhosted.org/packages/b1/a6/c69cad508139a342810ae46e946ebb3256aa6e42f690d901bb68f50582e3/scikit_video-1.1.11-py2.py3-none-any.whl (2.3MB)\n",
            "\u001b[K     |████████████████████████████████| 2.3MB 53.6MB/s \n",
            "\u001b[?25hRequirement already satisfied: opencv-python==4.1.2.30 in /usr/local/lib/python3.7/dist-packages (from -r requirements.txt (line 22)) (4.1.2.30)\n",
            "Collecting llvmlite==0.32.1\n",
            "\u001b[?25l  Downloading https://files.pythonhosted.org/packages/c1/4c/e9554f393c60018ff89dcc87f7ff30866c97f81482bec64e62d81685612f/llvmlite-0.32.1-cp37-cp37m-manylinux1_x86_64.whl (20.2MB)\n",
            "\u001b[K     |████████████████████████████████| 20.2MB 165kB/s \n",
            "\u001b[?25hRequirement already satisfied: six>=1.11.0 in /usr/local/lib/python3.7/dist-packages (from chumpy==0.70->-r requirements.txt (line 24)) (1.15.0)\n",
            "Requirement already satisfied: setuptools in /usr/local/lib/python3.7/dist-packages (from numba==0.47.0->-r requirements.txt (line 6)) (54.0.0)\n",
            "Collecting torchgeometry>=0.1.2\n",
            "\u001b[?25l  Downloading https://files.pythonhosted.org/packages/a6/d6/3f6820c0589bc3876080c59b58a3bad11af746a7b46f364b1cde7972bd72/torchgeometry-0.1.2-py2.py3-none-any.whl (42kB)\n",
            "\u001b[K     |████████████████████████████████| 51kB 7.8MB/s \n",
            "\u001b[?25hRequirement already satisfied: torch>=1.0.1.post2 in /usr/local/lib/python3.7/dist-packages (from smplx==0.1.26->-r requirements.txt (line 7)) (1.4.0)\n",
            "Requirement already satisfied: requests in /usr/local/lib/python3.7/dist-packages (from gdown==3.6.4->-r requirements.txt (line 8)) (2.23.0)\n",
            "Collecting PyOpenGL==3.1.0\n",
            "\u001b[?25l  Downloading https://files.pythonhosted.org/packages/9c/1d/4544708aaa89f26c97cc09450bb333a23724a320923e74d73e028b3560f9/PyOpenGL-3.1.0.tar.gz (1.2MB)\n",
            "\u001b[K     |████████████████████████████████| 1.2MB 23.3MB/s \n",
            "\u001b[?25hRequirement already satisfied: pyglet>=1.4.10 in /usr/local/lib/python3.7/dist-packages (from pyrender==0.1.36->-r requirements.txt (line 13)) (1.5.0)\n",
            "Requirement already satisfied: imageio in /usr/local/lib/python3.7/dist-packages (from pyrender==0.1.36->-r requirements.txt (line 13)) (2.4.1)\n",
            "Requirement already satisfied: networkx in /usr/local/lib/python3.7/dist-packages (from pyrender==0.1.36->-r requirements.txt (line 13)) (2.5)\n",
            "Collecting freetype-py\n",
            "\u001b[?25l  Downloading https://files.pythonhosted.org/packages/40/b5/56751e13f8b4a42f52c1b85ecce1446f83245190d820b42748eb8574ae43/freetype_py-2.2.0-py3-none-manylinux1_x86_64.whl (890kB)\n",
            "\u001b[K     |████████████████████████████████| 890kB 49.0MB/s \n",
            "\u001b[?25hRequirement already satisfied: cycler>=0.10 in /usr/local/lib/python3.7/dist-packages (from matplotlib==3.1.3->-r requirements.txt (line 16)) (0.10.0)\n",
            "Requirement already satisfied: pyparsing!=2.0.4,!=2.1.2,!=2.1.6,>=2.0.1 in /usr/local/lib/python3.7/dist-packages (from matplotlib==3.1.3->-r requirements.txt (line 16)) (2.4.7)\n",
            "Requirement already satisfied: kiwisolver>=1.0.1 in /usr/local/lib/python3.7/dist-packages (from matplotlib==3.1.3->-r requirements.txt (line 16)) (1.3.1)\n",
            "Requirement already satisfied: python-dateutil>=2.1 in /usr/local/lib/python3.7/dist-packages (from matplotlib==3.1.3->-r requirements.txt (line 16)) (2.8.1)\n",
            "Collecting gast==0.2.2\n",
            "  Downloading https://files.pythonhosted.org/packages/4e/35/11749bf99b2d4e3cceb4d55ca22590b0d7c2c62b9de38ac4a4a7f4687421/gast-0.2.2.tar.gz\n",
            "Requirement already satisfied: grpcio>=1.8.6 in /usr/local/lib/python3.7/dist-packages (from tensorflow==1.15.4->-r requirements.txt (line 17)) (1.32.0)\n",
            "Requirement already satisfied: keras-preprocessing>=1.0.5 in /usr/local/lib/python3.7/dist-packages (from tensorflow==1.15.4->-r requirements.txt (line 17)) (1.1.2)\n",
            "Requirement already satisfied: termcolor>=1.1.0 in /usr/local/lib/python3.7/dist-packages (from tensorflow==1.15.4->-r requirements.txt (line 17)) (1.1.0)\n",
            "Requirement already satisfied: absl-py>=0.7.0 in /usr/local/lib/python3.7/dist-packages (from tensorflow==1.15.4->-r requirements.txt (line 17)) (0.10.0)\n",
            "Requirement already satisfied: protobuf>=3.6.1 in /usr/local/lib/python3.7/dist-packages (from tensorflow==1.15.4->-r requirements.txt (line 17)) (3.12.4)\n",
            "Requirement already satisfied: wrapt>=1.11.1 in /usr/local/lib/python3.7/dist-packages (from tensorflow==1.15.4->-r requirements.txt (line 17)) (1.12.1)\n",
            "Requirement already satisfied: google-pasta>=0.1.6 in /usr/local/lib/python3.7/dist-packages (from tensorflow==1.15.4->-r requirements.txt (line 17)) (0.2.0)\n",
            "Requirement already satisfied: astor>=0.6.0 in /usr/local/lib/python3.7/dist-packages (from tensorflow==1.15.4->-r requirements.txt (line 17)) (0.8.1)\n",
            "Collecting keras-applications>=1.0.8\n",
            "\u001b[?25l  Downloading https://files.pythonhosted.org/packages/71/e3/19762fdfc62877ae9102edf6342d71b28fbfd9dea3d2f96a882ce099b03f/Keras_Applications-1.0.8-py3-none-any.whl (50kB)\n",
            "\u001b[K     |████████████████████████████████| 51kB 8.2MB/s \n",
            "\u001b[?25hRequirement already satisfied: wheel>=0.26; python_version >= \"3\" in /usr/local/lib/python3.7/dist-packages (from tensorflow==1.15.4->-r requirements.txt (line 17)) (0.36.2)\n",
            "Collecting tensorflow-estimator==1.15.1\n",
            "\u001b[?25l  Downloading https://files.pythonhosted.org/packages/de/62/2ee9cd74c9fa2fa450877847ba560b260f5d0fb70ee0595203082dafcc9d/tensorflow_estimator-1.15.1-py2.py3-none-any.whl (503kB)\n",
            "\u001b[K     |████████████████████████████████| 512kB 49.1MB/s \n",
            "\u001b[?25hRequirement already satisfied: opt-einsum>=2.3.2 in /usr/local/lib/python3.7/dist-packages (from tensorflow==1.15.4->-r requirements.txt (line 17)) (3.3.0)\n",
            "Requirement already satisfied: werkzeug>=0.11.15 in /usr/local/lib/python3.7/dist-packages (from tensorboard==2.1.0->-r requirements.txt (line 18)) (1.0.1)\n",
            "Requirement already satisfied: google-auth-oauthlib<0.5,>=0.4.1 in /usr/local/lib/python3.7/dist-packages (from tensorboard==2.1.0->-r requirements.txt (line 18)) (0.4.3)\n",
            "Requirement already satisfied: google-auth<2,>=1.6.3 in /usr/local/lib/python3.7/dist-packages (from tensorboard==2.1.0->-r requirements.txt (line 18)) (1.27.1)\n",
            "Requirement already satisfied: markdown>=2.6.8 in /usr/local/lib/python3.7/dist-packages (from tensorboard==2.1.0->-r requirements.txt (line 18)) (3.3.4)\n",
            "Requirement already satisfied: PyWavelets>=0.4.0 in /usr/local/lib/python3.7/dist-packages (from scikit-image==0.16.2->-r requirements.txt (line 20)) (1.1.1)\n",
            "Requirement already satisfied: certifi>=2017.4.17 in /usr/local/lib/python3.7/dist-packages (from requests->gdown==3.6.4->-r requirements.txt (line 8)) (2020.12.5)\n",
            "Requirement already satisfied: idna<3,>=2.5 in /usr/local/lib/python3.7/dist-packages (from requests->gdown==3.6.4->-r requirements.txt (line 8)) (2.10)\n",
            "Requirement already satisfied: chardet<4,>=3.0.2 in /usr/local/lib/python3.7/dist-packages (from requests->gdown==3.6.4->-r requirements.txt (line 8)) (3.0.4)\n",
            "Requirement already satisfied: urllib3!=1.25.0,!=1.25.1,<1.26,>=1.21.1 in /usr/local/lib/python3.7/dist-packages (from requests->gdown==3.6.4->-r requirements.txt (line 8)) (1.24.3)\n",
            "Requirement already satisfied: future in /usr/local/lib/python3.7/dist-packages (from pyglet>=1.4.10->pyrender==0.1.36->-r requirements.txt (line 13)) (0.16.0)\n",
            "Requirement already satisfied: decorator>=4.3.0 in /usr/local/lib/python3.7/dist-packages (from networkx->pyrender==0.1.36->-r requirements.txt (line 13)) (4.4.2)\n",
            "Requirement already satisfied: requests-oauthlib>=0.7.0 in /usr/local/lib/python3.7/dist-packages (from google-auth-oauthlib<0.5,>=0.4.1->tensorboard==2.1.0->-r requirements.txt (line 18)) (1.3.0)\n",
            "Requirement already satisfied: rsa<5,>=3.1.4; python_version >= \"3.6\" in /usr/local/lib/python3.7/dist-packages (from google-auth<2,>=1.6.3->tensorboard==2.1.0->-r requirements.txt (line 18)) (4.7.2)\n",
            "Requirement already satisfied: pyasn1-modules>=0.2.1 in /usr/local/lib/python3.7/dist-packages (from google-auth<2,>=1.6.3->tensorboard==2.1.0->-r requirements.txt (line 18)) (0.2.8)\n",
            "Requirement already satisfied: cachetools<5.0,>=2.0.0 in /usr/local/lib/python3.7/dist-packages (from google-auth<2,>=1.6.3->tensorboard==2.1.0->-r requirements.txt (line 18)) (4.2.1)\n",
            "Requirement already satisfied: importlib-metadata; python_version < \"3.8\" in /usr/local/lib/python3.7/dist-packages (from markdown>=2.6.8->tensorboard==2.1.0->-r requirements.txt (line 18)) (3.7.2)\n",
            "Requirement already satisfied: oauthlib>=3.0.0 in /usr/local/lib/python3.7/dist-packages (from requests-oauthlib>=0.7.0->google-auth-oauthlib<0.5,>=0.4.1->tensorboard==2.1.0->-r requirements.txt (line 18)) (3.1.0)\n",
            "Requirement already satisfied: pyasn1>=0.1.3 in /usr/local/lib/python3.7/dist-packages (from rsa<5,>=3.1.4; python_version >= \"3.6\"->google-auth<2,>=1.6.3->tensorboard==2.1.0->-r requirements.txt (line 18)) (0.4.8)\n",
            "Requirement already satisfied: typing-extensions>=3.6.4; python_version < \"3.8\" in /usr/local/lib/python3.7/dist-packages (from importlib-metadata; python_version < \"3.8\"->markdown>=2.6.8->tensorboard==2.1.0->-r requirements.txt (line 18)) (3.7.4.3)\n",
            "Requirement already satisfied: zipp>=0.5 in /usr/local/lib/python3.7/dist-packages (from importlib-metadata; python_version < \"3.8\"->markdown>=2.6.8->tensorboard==2.1.0->-r requirements.txt (line 18)) (3.4.1)\n",
            "Building wheels for collected packages: PyYAML, trimesh, progress, filterpy, chumpy, yolov3, multi-person-tracker, PyOpenGL, gast\n",
            "  Building wheel for PyYAML (setup.py) ... \u001b[?25l\u001b[?25hdone\n",
            "  Created wheel for PyYAML: filename=PyYAML-5.3.1-cp37-cp37m-linux_x86_64.whl size=44620 sha256=aaf4fdf6f1adda0888ff98731b8eb5954a897b9cb5bde6588a5f88520e67632d\n",
            "  Stored in directory: /root/.cache/pip/wheels/a7/c1/ea/cf5bd31012e735dc1dfea3131a2d5eae7978b251083d6247bd\n",
            "  Building wheel for trimesh (setup.py) ... \u001b[?25l\u001b[?25hdone\n",
            "  Created wheel for trimesh: filename=trimesh-3.5.25-cp37-none-any.whl size=452620 sha256=3a1f2356d720b21bea11dd4ce656fe60f8026744931a9935dddfe64b26f11a30\n",
            "  Stored in directory: /root/.cache/pip/wheels/3e/c4/04/57e315871e99277aafc0c7d065ea964bb669a2741be1a5d64e\n",
            "  Building wheel for progress (setup.py) ... \u001b[?25l\u001b[?25hdone\n",
            "  Created wheel for progress: filename=progress-1.5-cp37-none-any.whl size=8074 sha256=bc0308dd9c7d9f5015093973036b39f6cf0202a8b02f96128b77eb0d9c5766c4\n",
            "  Stored in directory: /root/.cache/pip/wheels/6c/c8/80/32a294e3041f006c661838c05a411c7b7ffc60ff939d14e116\n",
            "  Building wheel for filterpy (setup.py) ... \u001b[?25l\u001b[?25hdone\n",
            "  Created wheel for filterpy: filename=filterpy-1.4.5-cp37-none-any.whl size=110452 sha256=0a0a53d386ed14bc8873a053b835294c7a25977d43a5956d0ed4b1ba84813ec3\n",
            "  Stored in directory: /root/.cache/pip/wheels/c3/0c/dd/e92392c3f38a41371602d99fc77d6c1d42aadbf0c6afccdd02\n",
            "  Building wheel for chumpy (setup.py) ... \u001b[?25l\u001b[?25hdone\n",
            "  Created wheel for chumpy: filename=chumpy-0.70-cp37-none-any.whl size=60904 sha256=7422f88b5abcdfff32c0716e27716017fee0376d2ad2a022d042b5013286234f\n",
            "  Stored in directory: /tmp/pip-ephem-wheel-cache-8_9rvxre/wheels/ed/d0/74/8aeda0556643bb15fb13da4e031831bbfdcf716da2507999a6\n",
            "  Building wheel for yolov3 (setup.py) ... \u001b[?25l\u001b[?25hdone\n",
            "  Created wheel for yolov3: filename=yolov3-0.1-cp37-none-any.whl size=25814 sha256=9cd92929fb363e906396b61790ee665582c7901070e87f1d7729f657d0c9aa7c\n",
            "  Stored in directory: /tmp/pip-ephem-wheel-cache-8_9rvxre/wheels/52/cd/dc/1aa668555b599d1f997f7b802fded738ce7259c36c82d3497e\n",
            "  Building wheel for multi-person-tracker (setup.py) ... \u001b[?25l\u001b[?25hdone\n",
            "  Created wheel for multi-person-tracker: filename=multi_person_tracker-0.1-cp37-none-any.whl size=8879 sha256=f41e192c3280f134d5ca1baf0187e027590b7ad15b4dd88bd99a03c261cbfc08\n",
            "  Stored in directory: /tmp/pip-ephem-wheel-cache-8_9rvxre/wheels/05/7c/60/cc4b54c579c6e3e98da59223faedcc10ea1f1abe1bffcf3189\n",
            "  Building wheel for PyOpenGL (setup.py) ... \u001b[?25l\u001b[?25hdone\n",
            "  Created wheel for PyOpenGL: filename=PyOpenGL-3.1.0-cp37-none-any.whl size=1745211 sha256=cf886a4c4a4140a39d97a7f274dd8d1d1f67b013e363920275a391a277289935\n",
            "  Stored in directory: /root/.cache/pip/wheels/6c/00/7f/1dd736f380848720ad79a1a1de5272e0d3f79c15a42968fb58\n",
            "  Building wheel for gast (setup.py) ... \u001b[?25l\u001b[?25hdone\n",
            "  Created wheel for gast: filename=gast-0.2.2-cp37-none-any.whl size=7540 sha256=a5353972a7a4915539c36d5b823bc1c0d966e1282fb2d45f30778490ae5d81d9\n",
            "  Stored in directory: /root/.cache/pip/wheels/5c/2e/7e/a1d4d4fcebe6c381f378ce7743a3ced3699feb89bcfbdadadd\n",
            "Successfully built PyYAML trimesh progress filterpy chumpy yolov3 multi-person-tracker PyOpenGL gast\n",
            "\u001b[31mERROR: umap-learn 0.5.1 has requirement numba>=0.49, but you'll have numba 0.47.0 which is incompatible.\u001b[0m\n",
            "\u001b[31mERROR: torchtext 0.9.0 has requirement torch==1.8.0, but you'll have torch 1.4.0 which is incompatible.\u001b[0m\n",
            "\u001b[31mERROR: tensorflow 1.15.4 has requirement tensorboard<1.16.0,>=1.15.0, but you'll have tensorboard 2.1.0 which is incompatible.\u001b[0m\n",
            "\u001b[31mERROR: tensorflow-probability 0.12.1 has requirement gast>=0.3.2, but you'll have gast 0.2.2 which is incompatible.\u001b[0m\n",
            "\u001b[31mERROR: spacy 2.2.4 has requirement tqdm<5.0.0,>=4.38.0, but you'll have tqdm 4.28.1 which is incompatible.\u001b[0m\n",
            "\u001b[31mERROR: pynndescent 0.5.2 has requirement numba>=0.51.2, but you'll have numba 0.47.0 which is incompatible.\u001b[0m\n",
            "\u001b[31mERROR: fbprophet 0.7.1 has requirement tqdm>=4.36.1, but you'll have tqdm 4.28.1 which is incompatible.\u001b[0m\n",
            "\u001b[31mERROR: albumentations 0.1.12 has requirement imgaug<0.2.7,>=0.2.5, but you'll have imgaug 0.2.9 which is incompatible.\u001b[0m\n",
            "Installing collected packages: tqdm, PyYAML, yacs, llvmlite, numba, torchgeometry, smplx, joblib, pillow, trimesh, PyOpenGL, freetype-py, pyrender, progress, matplotlib, filterpy, gast, keras-applications, tensorflow-estimator, tensorboard, tensorflow, torchvision, scikit-video, chumpy, yolov3, multi-person-tracker\n",
            "  Found existing installation: tqdm 4.41.1\n",
            "    Uninstalling tqdm-4.41.1:\n",
            "      Successfully uninstalled tqdm-4.41.1\n",
            "  Found existing installation: PyYAML 3.13\n",
            "    Uninstalling PyYAML-3.13:\n",
            "      Successfully uninstalled PyYAML-3.13\n",
            "  Found existing installation: llvmlite 0.34.0\n",
            "    Uninstalling llvmlite-0.34.0:\n",
            "      Successfully uninstalled llvmlite-0.34.0\n",
            "  Found existing installation: numba 0.51.2\n",
            "    Uninstalling numba-0.51.2:\n",
            "      Successfully uninstalled numba-0.51.2\n",
            "  Found existing installation: joblib 1.0.1\n",
            "    Uninstalling joblib-1.0.1:\n",
            "      Successfully uninstalled joblib-1.0.1\n",
            "  Found existing installation: Pillow 7.0.0\n",
            "    Uninstalling Pillow-7.0.0:\n",
            "      Successfully uninstalled Pillow-7.0.0\n",
            "  Found existing installation: PyOpenGL 3.1.5\n",
            "    Uninstalling PyOpenGL-3.1.5:\n",
            "      Successfully uninstalled PyOpenGL-3.1.5\n",
            "  Found existing installation: matplotlib 3.2.2\n",
            "    Uninstalling matplotlib-3.2.2:\n",
            "      Successfully uninstalled matplotlib-3.2.2\n",
            "  Found existing installation: gast 0.3.3\n",
            "    Uninstalling gast-0.3.3:\n",
            "      Successfully uninstalled gast-0.3.3\n",
            "  Found existing installation: tensorflow-estimator 2.4.0\n",
            "    Uninstalling tensorflow-estimator-2.4.0:\n",
            "      Successfully uninstalled tensorflow-estimator-2.4.0\n",
            "  Found existing installation: tensorboard 2.4.1\n",
            "    Uninstalling tensorboard-2.4.1:\n",
            "      Successfully uninstalled tensorboard-2.4.1\n",
            "  Found existing installation: tensorflow 2.4.1\n",
            "    Uninstalling tensorflow-2.4.1:\n",
            "      Successfully uninstalled tensorflow-2.4.1\n",
            "  Found existing installation: torchvision 0.9.0+cu101\n",
            "    Uninstalling torchvision-0.9.0+cu101:\n",
            "      Successfully uninstalled torchvision-0.9.0+cu101\n",
            "Successfully installed PyOpenGL-3.1.0 PyYAML-5.3.1 chumpy-0.70 filterpy-1.4.5 freetype-py-2.2.0 gast-0.2.2 joblib-0.14.1 keras-applications-1.0.8 llvmlite-0.32.1 matplotlib-3.1.3 multi-person-tracker-0.1 numba-0.47.0 pillow-7.1.0 progress-1.5 pyrender-0.1.36 scikit-video-1.1.11 smplx-0.1.26 tensorboard-2.1.0 tensorflow-1.15.4 tensorflow-estimator-1.15.1 torchgeometry-0.1.2 torchvision-0.5.0 tqdm-4.28.1 trimesh-3.5.25 yacs-0.1.6 yolov3-0.1\n"
          ],
          "name": "stdout"
        },
        {
          "output_type": "display_data",
          "data": {
            "application/vnd.colab-display-data+json": {
              "pip_warning": {
                "packages": [
                  "PIL",
                  "matplotlib",
                  "mpl_toolkits"
                ]
              }
            }
          },
          "metadata": {
            "tags": []
          }
        }
      ]
    },
    {
      "cell_type": "code",
      "metadata": {
        "id": "brZt0q3Y6X5W",
        "colab": {
          "base_uri": "https://localhost:8080/"
        },
        "outputId": "1f8c7a3f-1f3d-4045-8fd4-8317a847b21e"
      },
      "source": [
        "# Download pretrained weights and SMPL data\n",
        "!source scripts/prepare_data.sh -y"
      ],
      "execution_count": 4,
      "outputs": [
        {
          "output_type": "stream",
          "text": [
            "Downloading...\n",
            "From: https://drive.google.com/uc?id=1untXhYOLQtpNEy4GTY_0fL_H-k6cTf_r\n",
            "To: /content/vibe/data/vibe_data.zip\n",
            "561MB [00:08, 64.5MB/s]\n",
            "Archive:  vibe_data.zip\n",
            "   creating: vibe_data/\n",
            "  inflating: vibe_data/smpl_mean_params.npz  \n",
            "  inflating: vibe_data/vibe_model_w_3dpw.pth.tar  \n",
            "  inflating: vibe_data/gmm_08.pkl    \n",
            "  inflating: vibe_data/J_regressor_h36m.npy  \n",
            "  inflating: vibe_data/vibe_model_wo_3dpw.pth.tar  \n",
            "  inflating: vibe_data/SMPL_NEUTRAL.pkl  \n",
            "  inflating: vibe_data/J_regressor_extra.npy  \n",
            "  inflating: vibe_data/spin_model_checkpoint.pth.tar  \n",
            "  inflating: vibe_data/sample_video.mp4  \n",
            "  inflating: vibe_data/yolov3.weights  \n"
          ],
          "name": "stdout"
        }
      ]
    },
    {
      "cell_type": "markdown",
      "metadata": {
        "id": "6hhd-c0o6nX3"
      },
      "source": [
        "Install STAF"
      ]
    },
    {
      "cell_type": "code",
      "metadata": {
        "colab": {
          "base_uri": "https://localhost:8080/",
          "height": 192
        },
        "id": "yZ7TscTGF66L",
        "outputId": "6095e29e-80ae-4972-8c36-b40f81b0e5bb"
      },
      "source": [
        "#STAF is not working yet\n",
        "\"\"\"import os\n",
        "from os.path import exists, join, basename, splitext\n",
        "\n",
        "git_repo_url = 'https://github.com/manlio99/staf.git'\n",
        "project_name = splitext(basename(git_repo_url))[0]\n",
        "if not exists(project_name):\n",
        "  # see: https://github.com/CMU-Perceptual-Computing-Lab/openpose/issues/949\n",
        "  # install new CMake becaue of CUDA10\n",
        "  !wget -q https://cmake.org/files/v3.13/cmake-3.13.0-Linux-x86_64.tar.gz\n",
        "  !tar xfz cmake-3.13.0-Linux-x86_64.tar.gz --strip-components=1 -C /usr/local\n",
        "  # clone STAF\n",
        "  !git clone -q --depth 1 $git_repo_url\n",
        "  !sed -i 's/execute_process(COMMAND git checkout master WORKING_DIRECTORY ${CMAKE_SOURCE_DIR}\\/3rdparty\\/caffe)/execute_process(COMMAND git checkout f019d0dfe86f49d1140961f8c7dec22130c83154 WORKING_DIRECTORY ${CMAKE_SOURCE_DIR}\\/3rdparty\\/caffe)/g' staf/CMakeLists.txt\n",
        "  # install system dependencies\n",
        "  !apt-get -qq install -y libatlas-base-dev libprotobuf-dev libleveldb-dev libsnappy-dev libhdf5-serial-dev protobuf-compiler libgflags-dev libgoogle-glog-dev liblmdb-dev opencl-headers ocl-icd-opencl-dev libviennacl-dev\n",
        "  # install python dependencies\n",
        "  !pip install -q youtube-dl\n",
        "  # build STAF\n",
        "  !cd staf && rm -rf build || true && mkdir build && cd build && cmake .. && make -j`nproc`\n",
        "  \n",
        "from IPython.display import YouTubeVideo\"\"\"\n"
      ],
      "execution_count": 5,
      "outputs": [
        {
          "output_type": "execute_result",
          "data": {
            "application/vnd.google.colaboratory.intrinsic+json": {
              "type": "string"
            },
            "text/plain": [
              "\"import os\\nfrom os.path import exists, join, basename, splitext\\n\\ngit_repo_url = 'https://github.com/manlio99/staf.git'\\nproject_name = splitext(basename(git_repo_url))[0]\\nif not exists(project_name):\\n  # see: https://github.com/CMU-Perceptual-Computing-Lab/openpose/issues/949\\n  # install new CMake becaue of CUDA10\\n  !wget -q https://cmake.org/files/v3.13/cmake-3.13.0-Linux-x86_64.tar.gz\\n  !tar xfz cmake-3.13.0-Linux-x86_64.tar.gz --strip-components=1 -C /usr/local\\n  # clone STAF\\n  !git clone -q --depth 1 $git_repo_url\\n  !sed -i 's/execute_process(COMMAND git checkout master WORKING_DIRECTORY ${CMAKE_SOURCE_DIR}\\\\/3rdparty\\\\/caffe)/execute_process(COMMAND git checkout f019d0dfe86f49d1140961f8c7dec22130c83154 WORKING_DIRECTORY ${CMAKE_SOURCE_DIR}\\\\/3rdparty\\\\/caffe)/g' staf/CMakeLists.txt\\n  # install system dependencies\\n  !apt-get -qq install -y libatlas-base-dev libprotobuf-dev libleveldb-dev libsnappy-dev libhdf5-serial-dev protobuf-compiler libgflags-dev libgoogle-glog-dev liblmdb-dev opencl-headers ocl-icd-opencl-dev libviennacl-dev\\n  # install python dependencies\\n  !pip install -q youtube-dl\\n  # build STAF\\n  !cd staf && rm -rf build || true && mkdir build && cd build && cmake .. && make -j`nproc`\\n  \\nfrom IPython.display import YouTubeVideo\""
            ]
          },
          "metadata": {
            "tags": []
          },
          "execution_count": 5
        }
      ]
    },
    {
      "cell_type": "code",
      "metadata": {
        "id": "1KEntHujYHWt"
      },
      "source": [
        "#not working yet\n",
        "# example demo usage\n",
        "#!cd /content/vibe/staf/openpose && /content/vibe/staf/openpose/build/examples/openpose/openpose.bin --video /content/vibe/staf/openpose/examples/media/video.avi --write_json output/ --display 0 --render_pose 0\n"
      ],
      "execution_count": null,
      "outputs": []
    },
    {
      "cell_type": "code",
      "metadata": {
        "id": "B-fk-I026F6E"
      },
      "source": [
        "#%cd /content/staf\n",
        "#!python3 /content/staf/build/examples/tutorial_api_python/02_whole_body_from_image.py"
      ],
      "execution_count": null,
      "outputs": []
    },
    {
      "cell_type": "code",
      "metadata": {
        "colab": {
          "base_uri": "https://localhost:8080/"
        },
        "id": "rhcirGl_3iSm",
        "outputId": "7c9181cd-56ce-4046-fdf4-1fdf7faa2b2a"
      },
      "source": [
        "#!python -m pip uninstall pytube pytube3 pytubex pytube4 -y\n",
        "!python -m pip install pytube"
      ],
      "execution_count": 6,
      "outputs": [
        {
          "output_type": "stream",
          "text": [
            "Collecting pytube\n",
            "\u001b[?25l  Downloading https://files.pythonhosted.org/packages/98/fe/ab5c42a4be08d302d11e228bd5c4a63c1cb2fce9041881f8f9ef9a1fe34e/pytube-10.5.3-py3-none-any.whl (42kB)\n",
            "\r\u001b[K     |███████▋                        | 10kB 24.0MB/s eta 0:00:01\r\u001b[K     |███████████████▎                | 20kB 29.2MB/s eta 0:00:01\r\u001b[K     |███████████████████████         | 30kB 20.8MB/s eta 0:00:01\r\u001b[K     |██████████████████████████████▋ | 40kB 16.5MB/s eta 0:00:01\r\u001b[K     |████████████████████████████████| 51kB 5.0MB/s \n",
            "\u001b[?25hRequirement already satisfied: typing-extensions in /usr/local/lib/python3.7/dist-packages (from pytube) (3.7.4.3)\n",
            "Installing collected packages: pytube\n",
            "Successfully installed pytube-10.5.3\n"
          ],
          "name": "stdout"
        }
      ]
    },
    {
      "cell_type": "code",
      "metadata": {
        "id": "p01l7pXL6_MJ"
      },
      "source": [
        "#%cd /content/vibe/staf/models\n",
        "#!ls\n",
        "#!sh getModels.sh\n"
      ],
      "execution_count": null,
      "outputs": []
    },
    {
      "cell_type": "code",
      "metadata": {
        "id": "qVNszfLQ7rC9",
        "colab": {
          "base_uri": "https://localhost:8080/"
        },
        "outputId": "2001234f-9e55-4543-ee83-995df5c9602e"
      },
      "source": [
        "%cd /content/vibe\n",
        "# Run the demo\n",
        "!python demo.py --vid_file \"/content/drive/MyDrive/Colab Notebooks/VIBE_VIENA/f_cut.mp4\" --output_folder output/ --tracking_method bbox #--staf_dir /content/staf\n",
        "\n",
        "# You may use --sideview flag to enable from a different viewpoint, note that this doubles rendering time.\n",
        "# !python demo.py --vid_file sample_video.mp4 --output_folder output/ --sideview\n",
        "\n",
        "# You may also run VIBE on a YouTube video by providing a link\n",
        "#!python demo.py --vid_file https://www.youtube.com/watch?v=GLwRHyx7xYE --output_folder output/ --tracking_method pose --display"
      ],
      "execution_count": 7,
      "outputs": [
        {
          "output_type": "stream",
          "text": [
            "/content/vibe\n",
            "Running \"ffmpeg -i /content/drive/MyDrive/Colab Notebooks/VIBE_VIENA/f_cut.mp4 -f image2 -v error /tmp/f_cut_mp4/%06d.png\"\n",
            "Images saved to \"/tmp/f_cut_mp4\"\n",
            "Input video number of frames 9445\n",
            "Downloading files from https://raw.githubusercontent.com/mkocabas/yolov3-pytorch/master/yolov3/config/yolov3.cfg\n",
            "--2021-03-17 20:47:21--  https://raw.githubusercontent.com/mkocabas/yolov3-pytorch/master/yolov3/config/yolov3.cfg\n",
            "Resolving raw.githubusercontent.com (raw.githubusercontent.com)... 185.199.108.133, 185.199.109.133, 185.199.110.133, ...\n",
            "Connecting to raw.githubusercontent.com (raw.githubusercontent.com)|185.199.108.133|:443... connected.\n",
            "HTTP request sent, awaiting response... 200 OK\n",
            "Length: 8338 (8.1K) [text/plain]\n",
            "Saving to: ‘/root/.torch/config/yolov3.cfg’\n",
            "\n",
            "yolov3.cfg          100%[===================>]   8.14K  --.-KB/s    in 0s      \n",
            "\n",
            "2021-03-17 20:47:21 (72.6 MB/s) - ‘/root/.torch/config/yolov3.cfg’ saved [8338/8338]\n",
            "\n",
            "Running Multi-Person-Tracker\n",
            "100% 788/788 [11:18<00:00,  1.16it/s]\n",
            "Finished. Detection + Tracking FPS 13.93\n",
            "WARNING: You are using a SMPL model, with only 10 shape coefficients.\n",
            "Downloading: \"https://download.pytorch.org/models/resnet50-19c8e357.pth\" to /root/.cache/torch/checkpoints/resnet50-19c8e357.pth\n",
            "100% 97.8M/97.8M [00:00<00:00, 194MB/s]\n",
            "WARNING: You are using a SMPL model, with only 10 shape coefficients.\n",
            "=> loaded pretrained model from 'data/vibe_data/spin_model_checkpoint.pth.tar'\n",
            "Performance of pretrained model on 3DPW: 56.56075477600098\n",
            "Loaded pretrained weights from \"data/vibe_data/vibe_model_wo_3dpw.pth.tar\"\n",
            "Running VIBE on each tracklet...\n",
            "100% 1/1 [05:27<00:00, 327.57s/it]\n",
            "VIBE FPS: 28.83\n",
            "Total time spent: 1032.62 seconds (including model loading time).\n",
            "Total FPS (including model loading time): 9.15.\n",
            "Saving output results to \"output/f_cut/vibe_output.pkl\".\n",
            "WARNING: You are using a SMPL model, with only 10 shape coefficients.\n",
            "Rendering output video, writing frames to /tmp/f_cut_mp4_output\n",
            "100% 9445/9445 [37:58<00:00,  4.15it/s]\n",
            "Saving result video to output/f_cut/f_cut_vibe_result.mp4\n",
            "Running \"ffmpeg -y -threads 16 -i /tmp/f_cut_mp4_output/%06d.png -profile:v baseline -level 3.0 -c:v libx264 -pix_fmt yuv420p -an -v error output/f_cut/f_cut_vibe_result.mp4\"\n",
            "================= END =================\n"
          ],
          "name": "stdout"
        }
      ]
    },
    {
      "cell_type": "code",
      "metadata": {
        "id": "1QHQQM7w4khv"
      },
      "source": [
        "#STAF is not working yet\n",
        "#!python demo.py --vid_file sample_video.mp4 --output_folder output/ --tracking_method pose --display"
      ],
      "execution_count": null,
      "outputs": []
    },
    {
      "cell_type": "code",
      "metadata": {
        "id": "j8zxBa_K-FJf"
      },
      "source": [
        "# Play the generated video\n",
        "from IPython.display import HTML\n",
        "from base64 import b64encode\n",
        "\n",
        "def video(path):\n",
        "  mp4 = open(path,'rb').read()\n",
        "  data_url = \"data:video/mp4;base64,\" + b64encode(mp4).decode()\n",
        "  return HTML('<video width=500 controls loop> <source src=\"%s\" type=\"video/mp4\"></video>' % data_url)\n",
        "\n",
        "video('/content/vibe/output/f_cut/f_cut_vibe_result.mp4')"
      ],
      "execution_count": 26,
      "outputs": []
    },
    {
      "cell_type": "code",
      "metadata": {
        "id": "FGcw0HzhtPxj",
        "colab": {
          "base_uri": "https://localhost:8080/"
        },
        "outputId": "e4f5714e-cf18-45cd-fa25-fa487c482b21"
      },
      "source": [
        "# Inspect the output file content\n",
        "import joblib\n",
        "pathdata='/content/vibe/output/f_cut/vibe_output.pkl'\n",
        "output = joblib.load(pathdata)\n",
        "print('Track ids:', output.keys(), end='\\n\\n')\n",
        "\n",
        "\n",
        "print('VIBE output file content:', end='\\n\\n')\n",
        "for k,v in output[1].items():\n",
        "  if k == 'joints2d': \n",
        "    print(k)\n",
        "  else: \n",
        "    print(k, v.shape)"
      ],
      "execution_count": 8,
      "outputs": [
        {
          "output_type": "stream",
          "text": [
            "Track ids: dict_keys([1])\n",
            "\n",
            "VIBE output file content:\n",
            "\n",
            "pred_cam (9291, 3)\n",
            "orig_cam (9291, 4)\n",
            "verts (9291, 6890, 3)\n",
            "pose (9291, 72)\n",
            "betas (9291, 10)\n",
            "joints3d (9291, 49, 3)\n",
            "joints2d\n",
            "joints2d_img_coord (9291, 49, 2)\n",
            "bboxes (9291, 4)\n",
            "frame_ids (9291,)\n"
          ],
          "name": "stdout"
        }
      ]
    },
    {
      "cell_type": "code",
      "metadata": {
        "id": "v0pbExwb4pUb"
      },
      "source": [
        "import numpy as np\n",
        "import pandas as pd\n",
        "import os\n",
        "import matplotlib.pyplot as plt\n",
        "\n"
      ],
      "execution_count": 25,
      "outputs": []
    },
    {
      "cell_type": "markdown",
      "metadata": {
        "id": "OcBPjqGN0qKO"
      },
      "source": [
        "### Change Score Survey\n",
        "\n"
      ]
    },
    {
      "cell_type": "markdown",
      "metadata": {
        "id": "571_6SVkkCNq"
      },
      "source": [
        "Not implemented yet!"
      ]
    },
    {
      "cell_type": "code",
      "metadata": {
        "id": "pmWFEOFJuw0N",
        "colab": {
          "base_uri": "https://localhost:8080/"
        },
        "outputId": "47229a49-0201-4d32-a317-a39cd62eabc3"
      },
      "source": [
        "#@title Right Wrist { display-mode: \"form\" }\n",
        "#@markdown select +1 if flexion or extension movements are 0°-15° \n",
        "\n",
        "#@markdown Select: +2 if flexion or extension movements are >15° \n",
        "RightWristScore = 2 #@param [1, 2]\n",
        "print('You selected', RightWristScore)"
      ],
      "execution_count": 18,
      "outputs": [
        {
          "output_type": "stream",
          "text": [
            "You selected 2\n"
          ],
          "name": "stdout"
        }
      ]
    },
    {
      "cell_type": "code",
      "metadata": {
        "id": "F5sHzDYhvyil",
        "colab": {
          "base_uri": "https://localhost:8080/"
        },
        "outputId": "8fb47d20-a1d8-4e41-eff6-7387ab6c8554"
      },
      "source": [
        "#@title Right Wrist deviated or twisted{ display-mode: \"form\" }\n",
        "#@markdown Select: +1 if wrist is deviated or twisted OR \n",
        "\n",
        "#@markdown Select: +0 if not \n",
        "RightWristchange = 1 #@param [0, 1]\n",
        "print('You selected', RightWristchange)\n",
        "RightWristScore+= RightWristchange"
      ],
      "execution_count": 19,
      "outputs": [
        {
          "output_type": "stream",
          "text": [
            "You selected 1\n"
          ],
          "name": "stdout"
        }
      ]
    },
    {
      "cell_type": "code",
      "metadata": {
        "id": "Ka1w5sobww8Y",
        "colab": {
          "base_uri": "https://localhost:8080/"
        },
        "outputId": "b0d88914-17c2-4598-e0f4-1baaa72b6bc1"
      },
      "source": [
        "#@title Left Wrist { display-mode: \"form\" }\n",
        "#@markdown Select: +1 if flexion or extension movements are 0°-15°;\n",
        "\n",
        "#@markdown Select: +2 if flexion or extension movements are >15° \n",
        "LeftWristScore = 2 #@param [1, 2]\n",
        "print('You selected', LeftWristScore)"
      ],
      "execution_count": 16,
      "outputs": [
        {
          "output_type": "stream",
          "text": [
            "You selected 2\n"
          ],
          "name": "stdout"
        }
      ]
    },
    {
      "cell_type": "code",
      "metadata": {
        "id": "tol9skJaw3m8",
        "colab": {
          "base_uri": "https://localhost:8080/"
        },
        "outputId": "65df642b-39ef-4c39-f1e3-0cf9654be7cc"
      },
      "source": [
        "#@title Left Wrist deviated or twisted{ display-mode: \"form\" }\n",
        "#@markdown select: +1 if Left wrist is deviated or twisted\n",
        "\n",
        "#@markdown Select: +0 if Left wrist is not deviated or twisted\n",
        "LeftWristchange = 1 #@param [0, 1]\n",
        "print('You selected', LeftWristchange)\n",
        "LeftWristScore+= LeftWristchange"
      ],
      "execution_count": 17,
      "outputs": [
        {
          "output_type": "stream",
          "text": [
            "You selected 1\n"
          ],
          "name": "stdout"
        }
      ]
    },
    {
      "cell_type": "code",
      "metadata": {
        "id": "-OXmSLVhxYGR",
        "colab": {
          "base_uri": "https://localhost:8080/"
        },
        "outputId": "ec5b9fdf-51b6-4fbc-9f34-96ffdcd12066"
      },
      "source": [
        "#@title Trunk twisted or side flexed { display-mode: \"form\" }\n",
        "#@markdown Select: +1 if Trunk is twisted or side flexed; \n",
        "\n",
        "#@markdown Select: +0 if Trunk is not twisted or side flexed\n",
        "Trunkchange = \"1\" #@param [0, 1]\n",
        "print('You selected', Trunkchange)"
      ],
      "execution_count": 13,
      "outputs": [
        {
          "output_type": "stream",
          "text": [
            "You selected 1\n"
          ],
          "name": "stdout"
        }
      ]
    },
    {
      "cell_type": "code",
      "metadata": {
        "id": "Aa8Y7Hfax_oG",
        "colab": {
          "base_uri": "https://localhost:8080/"
        },
        "outputId": "29ad2c61-baf6-4aca-d969-db7bf3e85229"
      },
      "source": [
        "#@title Neck twisted or side flexed { display-mode: \"form\" }\n",
        "#@markdown Select: +1 if Neck is twisted or side flexed\n",
        "\n",
        "#@markdown Select: +0 if Neck is not twisted or side flexed\n",
        "Neckchange = \"1\" #@param [0, 1]\n",
        "print('You selected', Neckchange)"
      ],
      "execution_count": 12,
      "outputs": [
        {
          "output_type": "stream",
          "text": [
            "You selected 1\n"
          ],
          "name": "stdout"
        }
      ]
    },
    {
      "cell_type": "code",
      "metadata": {
        "id": "Ur2mCgiDyPuA",
        "colab": {
          "base_uri": "https://localhost:8080/"
        },
        "outputId": "9e996338-9f84-41e9-800d-a29200273391"
      },
      "source": [
        "#@title Legs Balance { display-mode: \"form\" }\n",
        "#@markdown Select: +1 if Bilateral weight bearing, walking or sitting\n",
        "\n",
        "#@markdown Select: +2 Unilateral weight bearing, Feather weight bearing or an unstable posture\n",
        "Legschange = 1 #@param [1, 2]\n",
        "print('You selected', Legschange)"
      ],
      "execution_count": 11,
      "outputs": [
        {
          "output_type": "stream",
          "text": [
            "You selected 1\n"
          ],
          "name": "stdout"
        }
      ]
    },
    {
      "cell_type": "code",
      "metadata": {
        "id": "VCCbp9CczknX",
        "colab": {
          "base_uri": "https://localhost:8080/"
        },
        "outputId": "3ad48c52-ef82-4ed1-c961-ffbf19d046c2"
      },
      "source": [
        "#@title Left Shoulder { display-mode: \"form\" }\n",
        "#@markdown Select: +1 if Left shoulder is raised\n",
        "\n",
        "#@markdown Select: -1 if Left shoulder is leaning or if Left shoulder posture is gravity assisted.\n",
        "\n",
        "#@markdown Else Select: 0\n",
        "LeftShoulderchange = \"1\" #@param [1, -1, 0]\n",
        "print('You selected', LeftShoulderchange)"
      ],
      "execution_count": 10,
      "outputs": [
        {
          "output_type": "stream",
          "text": [
            "You selected 1\n"
          ],
          "name": "stdout"
        }
      ]
    },
    {
      "cell_type": "code",
      "metadata": {
        "id": "ojjcrxIt0KoG",
        "colab": {
          "base_uri": "https://localhost:8080/"
        },
        "outputId": "70ed71b0-e04e-4eb9-a962-663b99c7d33a"
      },
      "source": [
        "#@title Right Shoulder { display-mode: \"form\" }\n",
        "#@markdown Select: +1 if Right shoulder is raised\n",
        "\n",
        "#@markdown Select: -1 if Right shoulder is leaning or if Right shoulder posture is gravity assisted.\n",
        "\n",
        "#@markdown Else Select: 0\n",
        "RightShoulderchange = \"1\" #@param [1, -1, 0]\n",
        "print('You selected', RightShoulderchange)"
      ],
      "execution_count": 9,
      "outputs": [
        {
          "output_type": "stream",
          "text": [
            "You selected 1\n"
          ],
          "name": "stdout"
        }
      ]
    },
    {
      "cell_type": "code",
      "metadata": {
        "id": "5kF0lHCFR68M"
      },
      "source": [
        "    def uuuuu( a, b, c ):\n",
        "        #angles calculation, the formulae can be edited.\n",
        "        a = np.array(a)\n",
        "        b = np.array(b)\n",
        "        c = np.array(c)\n",
        "\n",
        "        ba = a - b\n",
        "        bc = c - b\n",
        "\n",
        "        cosine_angle = np.dot(ba, bc) / (np.linalg.norm(ba) * np.linalg.norm(bc))\n",
        "        angle = np.arccos(cosine_angle)\n",
        "\n",
        "        return np.degrees(angle)"
      ],
      "execution_count": 20,
      "outputs": []
    },
    {
      "cell_type": "code",
      "metadata": {
        "id": "TJG4QSp37tYl"
      },
      "source": [
        "def reba(leftelbowScore, rightelbowScore, leftShoulderScore, rightShoulderScore, leftKneeScore, rightKneeScore,\n",
        "                                                                 trunkScore, neckScore,LeftWristScore=3, RightWristScore=3 ):\n",
        "        if leftelbowScore>=2:\n",
        "            leftelbowScore=2\n",
        "        if rightelbowScore>=2:\n",
        "            rightelbowScore=2\n",
        "        if leftShoulderScore>=6:\n",
        "            leftShoulderScore=6\n",
        "        elif leftShoulderScore < 1:\n",
        "            leftShoulderScore = 1\n",
        "\n",
        "        if rightShoulderScore>=6:\n",
        "            rightShoulderScore=6\n",
        "        elif rightShoulderScore < 1:\n",
        "            rightShoulderScore = 1\n",
        "\n",
        "        if leftKneeScore>=4:\n",
        "            leftKneeScore=4\n",
        "        elif leftKneeScore <1:\n",
        "            leftKneeScore= 1\n",
        "\n",
        "        if rightKneeScore >= 4:\n",
        "            rightKneeScore = 4\n",
        "        elif rightKneeScore < 1:\n",
        "            rightKneeScore = 1\n",
        "\n",
        "        if neckScore>=3:\n",
        "            neckScore=3\n",
        "        elif neckScore < 1:\n",
        "            neckScore = 1\n",
        "        if trunkScore >= 5:\n",
        "            trunkScore = 5\n",
        "        elif trunkScore < 1:\n",
        "            trunkScore=1\n",
        "\n",
        "        table_a=[[1],[],[],[]]\n",
        "        table_a[1]=[\n",
        "           [] ,#python start lists with 0, and REBA starts from 1\n",
        "           [ 1, 2, 3, 4],\n",
        "           [ 2, 3, 4, 5],\n",
        "           [ 2, 4, 5, 6],\n",
        "           [ 3, 5, 6, 7],\n",
        "           [ 4, 6, 7, 8]]\n",
        "\n",
        "        table_a[2] = [\n",
        "            [1],#python start lists with 0, and REBA starts from 1\n",
        "            [1, 2, 3, 4],\n",
        "            [3, 4, 5, 6],\n",
        "            [ 4, 5, 6, 7],\n",
        "            [ 5, 6, 7, 8],\n",
        "            [ 6, 7, 8, 9]\n",
        "        ]\n",
        "\n",
        "        table_a[3] = [\n",
        "            [1],#python start lists with 0, and REBA starts from 1\n",
        "           [3, 3, 5, 6],\n",
        "           [4, 5, 6, 7],\n",
        "           [5, 6, 7, 8],\n",
        "           [6, 7, 8, 9],\n",
        "            [7, 8, 9, 9]]\n",
        "\n",
        "        #python start lists with 0, and REBA starts from 1: so we rest 1 to horizontal scores\n",
        "        Left_res_table_a = table_a[neckScore][trunkScore][leftKneeScore-1]\n",
        "        Right_res_table_a = table_a[neckScore][trunkScore][rightKneeScore-1]\n",
        "\n",
        "        table_b=[[1],[],[]]\n",
        "        table_b[1]=[#ojo restar 1 a los indices horizontales\n",
        "\n",
        "            [ 1, 2, 2],\n",
        "            [ 1, 2, 3],\n",
        "            [ 3, 4, 5],\n",
        "            [ 4, 5, 5],\n",
        "            [ 6, 7, 8],\n",
        "            [ 7, 8, 8]]\n",
        "\n",
        "        table_b[2] = [\n",
        "\n",
        "            [1, 2, 3],\n",
        "            [2, 3, 4],\n",
        "            [4, 5, 5],\n",
        "            [5, 6, 7],\n",
        "            [7, 8, 8],\n",
        "            [8, 9, 9]]\n",
        "\n",
        "        Left_res_table_b = table_b[leftelbowScore][leftShoulderScore-1][LeftWristScore-1]\n",
        "        \n",
        "        Right_res_table_b = table_b[rightelbowScore][rightShoulderScore-1][RightWristScore-1]\n",
        "        \n",
        "        table_c=[\n",
        "\n",
        "            [1, 1, 1, 2, 3, 3, 4, 5, 6, 7, 7, 7],\n",
        "            [1, 2, 2, 3, 4, 4, 5, 6, 6, 7, 7, 8],\n",
        "            [2, 3, 3, 3, 4, 5, 6, 7, 7, 8, 8, 8],\n",
        "            [3, 4, 4, 4, 5, 6, 7, 8, 8, 9, 9, 9],\n",
        "            [4, 4, 4, 5, 6, 7, 8, 8, 9, 9, 9, 9],\n",
        "            [6, 6, 6, 7, 8, 8, 9, 9, 10, 10, 10, 10],\n",
        "            [7, 7, 7, 8, 9, 9, 9, 10, 10, 11, 11, 11],\n",
        "            [8, 8, 8, 9, 10, 10, 10, 10, 10, 11, 11, 11],\n",
        "            [9, 9, 9, 10, 10, 10, 11, 11, 11, 12, 12, 12],\n",
        "            [10, 10, 10, 11, 11, 11, 11, 12, 12, 12, 12, 12],\n",
        "            [11, 11, 11, 11, 12, 12, 12, 12, 12, 12, 12, 12],\n",
        "            [12, 12, 12, 12, 12, 12, 12, 12, 12, 12, 12, 12]\n",
        "        ]\n",
        "        #python start lists with 0, and REBA starts from 1: so we rest 1 to scores\n",
        "        Left_res_table_c = table_c[Left_res_table_a-1][Left_res_table_b-1]\n",
        "        Right_res_table_c = table_c[Right_res_table_a-1][Right_res_table_b-1]\n",
        "        return (Left_res_table_a,Left_res_table_b,Left_res_table_c, Right_res_table_a, Right_res_table_b, Right_res_table_c)"
      ],
      "execution_count": 21,
      "outputs": []
    },
    {
      "cell_type": "code",
      "metadata": {
        "id": "Qf3PhYs44_7i"
      },
      "source": [
        "promKnee2d = [0]\n",
        "promEar2d = [0]"
      ],
      "execution_count": 23,
      "outputs": []
    },
    {
      "cell_type": "code",
      "metadata": {
        "id": "msRfx0IGS1QU",
        "colab": {
          "base_uri": "https://localhost:8080/",
          "height": 289
        },
        "outputId": "17c01f6a-6466-4a8d-b1ad-3517394ccb62"
      },
      "source": [
        "#pathdata='/content/vibe/output/d_cut/vibe_output.pkl'\n",
        "path_folder2=\"/content/vibe/output/f_cut/\"\n",
        "output_multiple_skeleton = joblib.load(pathdata)\n",
        "\n",
        "acumleftelbowAng, acumrightelbowAng, acumneckTwistingAng, acumleftShoulderAng, acumrightShoulderAng, acumtrunkTwistingAng, acumleftKneeAng, acumrightKneeAng, acumleftEarAng, acumrightEarAng, acumleftpieAng, acumrightpieAng, acumnoseAng, acumtrunkAng, acumneckAng, acumleftShoulderAng2, acumrightShoulderAng2, acumtrunkTwistingAng2, acumtrunkBendingAng = [], [], [], [], [], [], [], [], [], [], [], [], [], [], [], [], [], [], []\n",
        "\n",
        "confleftelbowAng, confrightelbowAng, confneckTwistingAng, confleftShoulderAng, confrightShoulderAng, conftrunkTwistingAng, confleftKneeAng, confrightKneeAng, confleftEarAng, confrightEarAng, confleftpieAng, confrightpieAng, confnoseAng, conftrunkAng, confneckAng, confleftShoulderAng2, confrightShoulderAng2, conftrunkTwistingAng2, conftrunkBendingAng = [], [], [], [], [], [], [], [], [], [], [], [], [], [], [], [], [], [], []\n",
        "\n",
        "sololeftelbowAng, solorightelbowAng, soloneckTwistingAng, sololeftShoulderAng, solorightShoulderAng, solotrunkTwistingAng, sololeftKneeAng, solorightKneeAng, sololeftEarAng, solorightEarAng, sololeftpieAng, solorightpieAng, solonoseAng, solotrunkAng, soloneckAng, sololeftShoulderAng2, solorightShoulderAng2, solotrunkTwistingAng2, solotrunkBendingAng = [], [], [], [], [], [], [], [], [], [], [], [], [], [], [], [], [], [], []\n",
        "\n",
        "scoreleftelbowAng, scorerightelbowAng, scoreneckTwistingAng, scoreleftShoulderAng, scorerightShoulderAng, scoretrunkTwistingAng, scoreleftKneeAng, scorerightKneeAng, scoreleftEarAng, scorerightEarAng, scoreleftpieAng, scorerightpieAng, scorenoseAng, scoretrunkAng, scoreneckAng, scoreleftShoulderAng2, scorerightShoulderAng2, scoretrunkTwistingAng2, scoretrunkBendingAng = [], [], [], [], [], [], [], [], [], [], [], [], [], [], [], [], [], [], []\n",
        "\n",
        "Left_res_table_a, Left_res_table_b, Left_res_table_c, Right_res_table_a, Right_res_table_b, Right_res_table_c, =[],[],[],[],[],[]\n",
        "print(\"# skeleton detected\")\n",
        "print(output_multiple_skeleton.keys())  # dict_keys([1, 2, 3, 4])   these are the track ids for each subject appearing in the video\n",
        "\n",
        "for kk in output_multiple_skeleton.keys():\n",
        "    #for multiple skeleton detected\n",
        "    output= output_multiple_skeleton[kk]\n",
        "    arr = [dat for dat in output['joints3d']]\n",
        "    arr2d = [dat for dat in output['joints2d_img_coord']]\n",
        "    #t = len(arr) #temporal line\n",
        "    datab = []\n",
        "    for j in range(len(arr)):\n",
        "        leftShoulder = arr[j][2]\n",
        "        leftelbow = arr[j][3]\n",
        "        lefthand = arr[j][4]\n",
        "\n",
        "        rightShoulder = arr[j][5]\n",
        "        rightelbow = arr[j][6]\n",
        "        righthand = arr[j][7]\n",
        "\n",
        "        nose = arr[j][0]\n",
        "        neck = arr[j][1]\n",
        "        leftShoulder = leftShoulder\n",
        "\n",
        "        leftHip = arr[j][9]\n",
        "        centerHip = arr[j][8]\n",
        "        neck = neck\n",
        "\n",
        "        leftHip = leftHip\n",
        "        leftKnee = arr[j][10]\n",
        "        leftpie = arr[j][11]\n",
        "\n",
        "        rightHip = arr[j][12]\n",
        "        rightKnee = arr[j][13]\n",
        "        rightpie = arr[j][14]\n",
        "\n",
        "        leftelbow = leftelbow\n",
        "        leftShoulder = leftShoulder\n",
        "        leftHip = leftHip\n",
        "\n",
        "        rightelbow = rightelbow\n",
        "        rightShoulder = rightShoulder\n",
        "        rightHip = rightHip\n",
        "\n",
        "        leftEar = arr[j][17]\n",
        "        neck = neck\n",
        "        leftShoulder = leftShoulder\n",
        "\n",
        "        rightEar = arr[j][18]\n",
        "        neck = neck\n",
        "        rightShoulder = rightShoulder\n",
        "\n",
        "        leftKnee = leftKnee\n",
        "        leftpie = leftpie\n",
        "        leftpiefin = arr[j][22]\n",
        "\n",
        "        rightKnee = rightKnee\n",
        "        rightpie = rightpie\n",
        "        rightpiefin = arr[j][19]\n",
        "\n",
        "        nose2d = arr2d[j][0]\n",
        "        neck2d = arr2d[j][1]\n",
        "        leftShoulder2d = arr2d[j][2]\n",
        "        leftelbow2d = arr2d[j][3]\n",
        "        lefthand2d = arr2d[j][4]\n",
        "\n",
        "        rightShoulder2d = arr2d[j][5]\n",
        "        rightelbow2d = arr2d[j][6]\n",
        "        righthand2d = arr2d[j][7]\n",
        "        centerHip2d = arr2d[j][8]\n",
        "        leftHip2d = arr2d[j][9]\n",
        "        leftKnee2d = arr2d[j][10]\n",
        "        leftpie2d = arr2d[j][11]\n",
        "        rightHip2d = arr2d[j][12]\n",
        "        rightKnee2d = arr2d[j][13]\n",
        "        rightpie2d = arr2d[j][14]\n",
        "        leftEar2d = arr2d[j][17]\n",
        "        rightEar2d = arr2d[j][18]\n",
        "\n",
        "        if leftKnee[2]:\n",
        "            if rightKnee[2]:\n",
        "                #promKnee is used to calculate the hip ang.\n",
        "                # promKnee is the middle point of the knees.\n",
        "\n",
        "                promKnee = [float((leftKnee[0] + rightKnee[0]) / 2),\n",
        "                                float((leftKnee[1] + rightKnee[1]) / 2),\n",
        "                                float((leftKnee[2] + rightKnee[2]) / 2)]\n",
        "                #promKnee2d = leftKnee2d[2] * rightKnee2d[2]\n",
        "            else:\n",
        "                #ppromKnee2d = leftKnee2d[2]\n",
        "                pass\n",
        "\n",
        "        else:\n",
        "            if rightKnee[2] > 0.1:\n",
        "                #promKnee2d = rightKnee2d[2]\n",
        "                pass\n",
        "\n",
        "            else:\n",
        "                promKnee = [0, 0, 0]\n",
        "                promKnee2d = [0]\n",
        "\n",
        "        centerHip = centerHip\n",
        "        neck = neck\n",
        "        if leftEar[2]:\n",
        "            if rightEar[2]:\n",
        "                #promEar is used to calculate the neck ang.\n",
        "                # promEar is the middle point of the ears.\n",
        "                promEar = (float((leftEar[0] + rightEar[0]) / 2), float((leftEar[1] + rightEar[1]) / 2),\n",
        "                            float((leftEar[2] + rightEar[2]) / 2))\n",
        "                #promEar2d = leftEar2d[2] * rightEar2d[2]\n",
        "            else:\n",
        "                promEar = leftEar\n",
        "                #promEar2d = leftEar2d\n",
        "        else:\n",
        "            if rightEar[2]:\n",
        "                promEar = rightEar\n",
        "                #promEar2d = rightEar2d\n",
        "            else:\n",
        "                promEar = [0, 0, 0]\n",
        "                #promEar2d = [0]\n",
        "\n",
        "        leftelbowAng = uuuuu(leftShoulder, leftelbow, lefthand)  # abs()180 -\n",
        "        rightelbowAng = uuuuu(righthand, rightelbow, rightShoulder)  #abs() 180 -\n",
        "        neckTwistingAng = uuuuu(nose, neck, centerHip)\n",
        "        leftShoulderAng = uuuuu(leftelbow, leftShoulder, leftHip) - 15\n",
        "        rightShoulderAng = uuuuu(rightelbow, rightShoulder, rightHip) - 15\n",
        "        leftKneeAng = abs(180 - uuuuu(leftHip, leftKnee, leftpie))\n",
        "        rightKneeAng = abs(180 - uuuuu(rightHip, rightKnee, rightpie))\n",
        "        leftEarAng = uuuuu(leftEar, neck, leftShoulder)\n",
        "        rightEarAng = uuuuu(rightEar, neck, rightShoulder)\n",
        "        leftpieAng = 90 - uuuuu(leftKnee, leftpie, leftpiefin)\n",
        "        rightpieAng = 90 - uuuuu(rightKnee, rightpie, rightpiefin)\n",
        "        noseAng = uuuuu(nose, neck, leftShoulder)\n",
        "        trunkAng = abs(180 - uuuuu(neck, centerHip, promKnee))\n",
        "        neckAng = abs(180 - uuuuu(promEar, neck, centerHip))\n",
        "        leftShoulderAng2 = uuuuu(leftelbow, leftShoulder, neck)\n",
        "        rightShoulderAng2 = uuuuu(rightelbow, rightShoulder, neck)\n",
        "        trunkTwistingAng = uuuuu(leftShoulder, centerHip, leftHip)\n",
        "        trunkTwistingAng2 = uuuuu(rightShoulder, centerHip, rightHip)\n",
        "        trunkBendingAng = uuuuu(leftHip, centerHip, neck)\n",
        "        \"\"\"\n",
        "        leftelbowAng2d = leftShoulder2d[2] * leftelbow2d[2] * lefthand2d[2]\n",
        "        rightelbowAng2d = righthand2d[2] * rightelbow2d[2] * rightShoulder2d[2]\n",
        "        neckTwistingAng2d = nose2d[2] * neck2d[2] * centerHip2d[2]\n",
        "        leftShoulderAng2d = leftelbow2d[2] * leftShoulder2d[2] * leftHip2d[2]\n",
        "        rightShoulderAng2d = rightelbow2d[2] * rightShoulder2d[2] * rightHip2d[2]\n",
        "        leftKneeAng2d = leftHip2d[2] * leftKnee2d[2] * leftpie2d[2]\n",
        "        rightKneeAng2d = rightHip2d[2] * rightKnee2d[2] * rightpie2d[2]\n",
        "        leftEarAng2d = leftEar2d[2] * neck2d[2] * leftShoulder2d[2]\n",
        "        rightEarAng2d = rightEar2d[2] * neck2d[2] * rightShoulder2d[2]\n",
        "        noseAng2d = nose2d[2] * neck2d[2] * leftShoulder2d[2]\n",
        "        trunkAng2d = neck2d[2] * centerHip2d[2] * promKnee2d\n",
        "        neckAng2d = promEar2d * neck2d[2] * centerHip2d[2]\n",
        "        leftShoulderAng22d = leftelbow2d[2] * leftShoulder2d[2] * neck2d[2]\n",
        "        rightShoulderAng22d = rightelbow2d[2] * rightShoulder2d[2] * neck2d[2]\n",
        "        trunkTwistingAng2d = leftShoulder2d[2] * centerHip2d[2] * leftHip2d[2]\n",
        "        trunkTwistingAng22d = rightShoulder2d[2] * centerHip2d[2] * rightHip2d[2]\n",
        "        trunkBendingAng2d = leftHip2d[2] * centerHip2d[2] * neck2d[2]\n",
        "        \"\"\"\n",
        "        negro = \"black\"  # (0, 0, 0)\n",
        "        rojo = \"red\"  # (0, 0, 1)\n",
        "        amarillo = \"yellow\"  # (0, 0, 1)\n",
        "        verde = \"green\"  # (0, 1, 0)\n",
        "        azul = \"blue\"  # (1, 0, 0)\n",
        "        colorlist = [azul, verde, amarillo, rojo, negro]\n",
        "        try:\n",
        "\n",
        "            if not np.isnan(rightelbowAng):\n",
        "                # rightelbowAng = uuuuu(righthand , rightelbow, rightShoulder)\n",
        "                if 60 < rightelbowAng < 100:\n",
        "                    rightelbowAngcolor = verde  #\n",
        "                    rightelbowScore = 1\n",
        "                else:\n",
        "                    rightelbowAngcolor = rojo  #\n",
        "                    rightelbowScore = 2\n",
        "                # rightelbowAng_color = lineaa(img, righthand, rightelbow, rightShoulder, width, height, color)\n",
        "\n",
        "            if not np.isnan(leftelbowAng):\n",
        "                if 60 < leftelbowAng < 100:\n",
        "                    leftelbowAngcolor = verde  # 1\n",
        "                    leftelbowScore = 1\n",
        "                else:\n",
        "                    leftelbowAngcolor = rojo  # 2\n",
        "                    leftelbowScore = 2\n",
        "                ##img = lineaa(img, lefthand, leftelbow, leftShoulder, width, height, color)\n",
        "\n",
        "            rightKneeScore=Legschange\n",
        "            if not np.isnan(rightKneeAng):\n",
        "                if (30 < rightKneeAng < 60):\n",
        "                    rightKneeScore += 1 \n",
        "                elif (rightKneeAng >= 60):\n",
        "                    rightKneeScore += 2\n",
        "            rightKneeAngcolor = colorlist[rightKneeScore]\n",
        "                ##img = lineaa(img, rightHip, rightKnee, rightpie, width, height, color)\n",
        "\n",
        "            leftKneeScore=Legschange\n",
        "            if not np.isnan(leftKneeAng):\n",
        "                if (30 < leftKneeAng < 60):\n",
        "                    leftKneeScore += 1 \n",
        "                elif (leftKneeAng >= 60):\n",
        "                    leftKneeScore += 2\n",
        "            leftKneeAngcolor = colorlist[leftKneeScore]\n",
        "                ##img = lineaa(img, leftHip, leftKnee, leftpie, width, height, color)\n",
        "\n",
        "            if not np.isnan(leftShoulderAng):\n",
        "                jcol = 0\n",
        "                if -20 < leftShoulderAng < 20:\n",
        "                    jcol += 1\n",
        "                elif leftShoulderAng < -20:\n",
        "                    jcol += 2\n",
        "                elif 20 < leftShoulderAng < 45:\n",
        "                    jcol += 2\n",
        "                elif 45 < leftShoulderAng < 90:\n",
        "                    jcol += 3\n",
        "                elif 90 < leftShoulderAng:\n",
        "                    jcol += 4\n",
        "                #+1 is the arm is abducted\n",
        "                if leftShoulderAng2 > 140:\n",
        "                    \n",
        "                    jcol += 1\n",
        "                else:\n",
        "                    jcol += 0\n",
        "                    \n",
        "                #if jcol > 3:\n",
        "                #    jcol = 3\n",
        "                leftShoulderAngcolor = colorlist[jcol+ LeftShoulderchange]\n",
        "                leftShoulderScore = jcol+LeftShoulderchange\n",
        "                \n",
        "\n",
        "            if not np.isnan(rightShoulderAng):\n",
        "                jcol = 0\n",
        "                if -20 < rightShoulderAng < 20:\n",
        "                    jcol += 1\n",
        "                elif rightShoulderAng < -20:\n",
        "                    jcol += 2\n",
        "                elif 20 < rightShoulderAng < 45:\n",
        "                    jcol += 2\n",
        "                elif 45 < rightShoulderAng < 90:\n",
        "                    jcol += 3\n",
        "                elif 90 < rightShoulderAng:\n",
        "                    jcol += 4\n",
        "                # +1 is the arm is abducted\n",
        "                if not np.isnan(rightShoulderAng2) and rightShoulderAng2 > 140:\n",
        "                    \n",
        "                    jcol += 1\n",
        "                else:\n",
        "                    jcol += 0\n",
        "                    \n",
        "                #if jcol > 3:\n",
        "                #    jcol = 3\n",
        "                rightShoulderAngcolor = colorlist[jcol+ RightShoulderchange]\n",
        "                rightShoulderScore = jcol + RightShoulderchange\n",
        "                # img = lineaa(img, rightelbow, rightShoulder, rightHip, width, height, color)\n",
        "            \n",
        "            neckScore = 0\n",
        "            neckScore+=Neckchange\n",
        "\n",
        "            if (0 < neckAng < 20):\n",
        "                neckScore += 1\n",
        "            elif (10 < neckAng < 60):\n",
        "                neckScore += 2\n",
        "            \"\"\"\n",
        "\n",
        "            if abs(neckTwistingAng) > 5:\n",
        "                neckScore += 1\n",
        "            leftNeckBendingAng=20\n",
        "            rightNeckBendingAng=0\n",
        "            if abs(np.nanmean([leftNeckBendingAng,rightNeckBendingAng]) - 90) > 5:\n",
        "                neckScore += 1\"\"\"\n",
        "            if not np.isnan(neckAng):\n",
        "                if neckScore >= 3:\n",
        "                    neckAngcolor = rojo\n",
        "                elif neckScore >= 2:\n",
        "                    neckAngcolor = amarillo\n",
        "                elif neckScore >= 0:\n",
        "                    neckAngcolor = verde\n",
        "\n",
        "            trunkScore = 0\n",
        "            trunkScore+=Trunkchange\n",
        "            if (trunkAng) < 1:\n",
        "                trunkScore += 1\n",
        "            elif (1 < (trunkAng) < 20):\n",
        "                trunkScore += 2\n",
        "            elif (20 < (trunkAng) < 60):\n",
        "                trunkScore += 3\n",
        "            elif (60 < (trunkAng)):\n",
        "                trunkScore += 4\n",
        "            \"\"\"\n",
        "\n",
        "            if np.nanmean([trunkTwistingAng, trunkTwistingAng2]) > 80:\n",
        "                trunkScore += 1\n",
        "\n",
        "            if (85 < trunkBendingAng > 95):\n",
        "                trunkScore += 1\"\"\"\n",
        "            if not np.isnan(trunkAng):\n",
        "                if trunkScore >= 5:\n",
        "                    trunkcolor = rojo\n",
        "                elif trunkScore >= 3:\n",
        "                    trunkcolor = amarillo\n",
        "                elif trunkScore >= 0:\n",
        "                    trunkcolor = verde\n",
        "        except:\n",
        "            print(Exception)\n",
        "        \"\"\"\n",
        "        confleftelbowAng.append(leftelbowAng2d)\n",
        "        confrightelbowAng.append(rightelbowAng2d)\n",
        "        confleftShoulderAng.append(leftShoulderAng2d)\n",
        "        confrightShoulderAng.append(rightShoulderAng2d)\n",
        "        confleftKneeAng.append(leftKneeAng2d)\n",
        "        confrightKneeAng.append(rightKneeAng2d)\n",
        "        conftrunkAng.append(trunkAng2d)\n",
        "        confneckAng.append(neckAng2d)\n",
        "        \"\"\"\n",
        "        scoreleftelbowAng.append(leftelbowScore)\n",
        "        scorerightelbowAng.append(rightelbowScore)\n",
        "        scoreleftShoulderAng.append(leftShoulderScore)\n",
        "        scorerightShoulderAng.append(rightShoulderScore)\n",
        "        scoreleftKneeAng.append(leftKneeScore)\n",
        "        scorerightKneeAng.append(rightKneeScore)\n",
        "        scoretrunkAng.append(trunkScore)\n",
        "        scoreneckAng.append(neckScore)\n",
        "\n",
        "        Left_table_a, Left_table_b, Left_table_c, Right_table_a, Right_table_b,\n",
        "         Right_table_c = reba(leftelbowScore, rightelbowScore, leftShoulderScore,\n",
        "                              rightShoulderScore, leftKneeScore, rightKneeScore, trunkScore, neckScore,\n",
        "                              LeftWristScore, RightWristScore)\n",
        "         \n",
        "        Left_res_table_a.append(Left_table_a)\n",
        "        Left_res_table_b.append(Left_table_b)\n",
        "        Left_res_table_c.append(Left_table_c)\n",
        "        Right_res_table_a.append(Right_table_a)\n",
        "        Right_res_table_b.append(Right_table_b)\n",
        "        Right_res_table_c.append(Right_table_c)\n",
        "\n",
        "        sololeftelbowAng.append(leftelbowAng)\n",
        "        solorightelbowAng.append(rightelbowAng)\n",
        "        sololeftShoulderAng.append(leftShoulderAng)\n",
        "        solorightShoulderAng.append(rightShoulderAng)\n",
        "        sololeftKneeAng.append(leftKneeAng)\n",
        "        solorightKneeAng.append(rightKneeAng)\n",
        "        solotrunkAng.append(trunkAng)\n",
        "        soloneckAng.append(neckAng)\n",
        "\n",
        "        acumleftelbowAng.append([leftelbowAng, (lefthand, leftelbow, leftShoulder), leftelbowAngcolor])\n",
        "        acumrightelbowAng.append([rightelbowAng, (righthand, rightelbow, rightShoulder), rightelbowAngcolor])\n",
        "        acumneckTwistingAng.append([neckTwistingAng, (nose, neck, centerHip)])\n",
        "        acumleftShoulderAng.append([leftShoulderAng, (leftelbow, leftShoulder, leftHip), leftShoulderAngcolor])\n",
        "        acumrightShoulderAng.append([rightShoulderAng, (rightelbow, rightShoulder, rightHip), rightShoulderAngcolor])\n",
        "        acumtrunkTwistingAng.append([trunkTwistingAng, (leftShoulder, centerHip, leftHip)])\n",
        "        acumleftKneeAng.append([leftKneeAng, (leftHip, leftKnee, leftpie), leftKneeAngcolor])\n",
        "        acumrightKneeAng.append([rightKneeAng, (rightHip, rightKnee, rightpie), rightKneeAngcolor])\n",
        "        acumleftEarAng.append([leftEarAng, (leftEar, neck, leftShoulder)])\n",
        "        acumrightEarAng.append([rightEarAng, (rightEar, neck, rightShoulder)])\n",
        "        acumleftpieAng.append([leftpieAng, (leftKnee, leftpie, leftpiefin)])\n",
        "        acumrightpieAng.append([rightpieAng, (rightKnee, rightpie, rightpiefin)])\n",
        "        acumnoseAng.append([noseAng, (nose, neck, leftShoulder)])\n",
        "        acumtrunkAng.append([trunkAng, (neck, centerHip), trunkcolor])  # , promKnee\n",
        "        acumneckAng.append([neckAng, (promEar, neck), neckAngcolor])  # , centerHip\n",
        "        acumleftShoulderAng2.append([leftShoulderAng2, (leftelbow, leftShoulder, neck), leftShoulderAngcolor])\n",
        "        acumrightShoulderAng2.append([rightShoulderAng2, (rightelbow, rightShoulder, neck), rightShoulderAngcolor])\n",
        "        acumtrunkTwistingAng2.append([trunkTwistingAng2, (rightShoulder, centerHip, rightHip)])\n",
        "        acumtrunkBendingAng.append([trunkBendingAng, (leftHip, centerHip, neck)])\n",
        "\n",
        "\n",
        "        \"\"\"\n",
        "        datab.append(\n",
        "            [leftelbowAng, rightelbowAng, neckTwistingAng, leftShoulderAng, rightShoulderAng, trunkTwistingAng,\n",
        "              leftKneeAng, rightKneeAng, leftEarAng, rightEarAng, leftpieAng, rightpieAng,\n",
        "              noseAng, trunkAng, neckAng, leftShoulderAng2, rightShoulderAng2, trunkTwistingAng2,\n",
        "              trunkBendingAng])\n",
        "    print(datab)\n",
        "    return datab\"\"\"\n",
        "    print(\"0\")\n",
        "    dfff = pd.DataFrame(\n",
        "        list(zip(sololeftelbowAng, solorightelbowAng, sololeftShoulderAng, solorightShoulderAng,\n",
        "                  sololeftKneeAng, solorightKneeAng, solotrunkAng, soloneckAng\n",
        "                  # ,confleftelbowAng, confrightelbowAng, confleftShoulderAng,\n",
        "                  # confrightShoulderAng,\n",
        "                  # confleftKneeAng, confrightKneeAng, conftrunkAng,\n",
        "                  # confneckAng\n",
        "                  )),\n",
        "        columns=['LeftElbowAng', 'RightElbowAng', 'LeftShoulderAng', 'RightShoulderAng',\n",
        "                  'LeftKneeAng', 'RightKneeAng', 'TrunkAng', 'NeckAng'\n",
        "                  # ,'confleftelbowAng', 'confrightelbowAng', 'confleftShoulderAng', 'confrightShoulderAng',\n",
        "                  # 'confleftKneeAng', 'confrightKneeAng', 'conftrunkAng', 'confneckAng'\n",
        "                  ])\n",
        "    pathhh = path_folder2 + \"/Angs_0.csv\"\n",
        "    person_idd = \"0\"\n",
        "    while (os.path.exists(pathhh)):\n",
        "        person_idd = pathhh.split(\"_\")[-1]\n",
        "        person_idd = person_idd.split(\".\")[0]\n",
        "        person_idd = str(int(person_idd) + 1)\n",
        "        pathhh = path_folder2 + \"Angs_\" + str(person_idd) + \".csv\"\n",
        "\n",
        "    dfff.to_csv(pathhh)\n",
        "    # stats_numeric = dfff.describe()\n",
        "    # print(stats_numeric)\n",
        "    \n",
        "    axes = dfff.plot.line(subplots=True, marker='o', linestyle='-')\n",
        "    plt.savefig(path_folder2 + \"/Angs_output_\" + str(person_idd) + \".png\")\n",
        "    \n",
        "\n",
        "    dfffscore = pd.DataFrame(\n",
        "        list(zip(scoreleftelbowAng, scorerightelbowAng, scoreleftShoulderAng,\n",
        "                  scorerightShoulderAng,\n",
        "                  scoreleftKneeAng, scorerightKneeAng, scoretrunkAng, scoreneckAng,\n",
        "                  Left_res_table_a, Left_res_table_b, Left_res_table_c,\n",
        "                 Right_res_table_a, Right_res_table_b, Right_res_table_c\n",
        "                  )),\n",
        "        columns=['LeftElbowScore', 'RightElbowScore', 'LeftShoulderScore', 'RightShoulderScore',\n",
        "                  'LeftKneeScore', 'RightKneeScore', 'TrunkScore', 'NeckScore',\n",
        "                 \"Left_res_table_a\", \"Left_res_table_b\", \"Left_res_table_c\",\n",
        "                  \"Right_res_table_a\", \"Right_res_table_b\", \"Right_res_table_c\"\n",
        "                  ])\n",
        "    \n",
        "\n",
        "                  # ,confleftelbowAng, confrightelbowAng, confleftShoulderAng,\n",
        "                  # confrightShoulderAng,\n",
        "                  # confleftKneeAng, confrightKneeAng, conftrunkAng,\n",
        "                  # confneckAng\n",
        "\n",
        "                  # ,'confleftelbowAng', 'confrightelbowAng', 'confleftShoulderAng', 'confrightShoulderAng',\n",
        "                  # 'confleftKneeAng', 'confrightKneeAng', 'conftrunkAng', 'confneckAng'\n",
        "\n",
        "    dfffscore.to_csv(path_folder2 + \"/score_\" + str(person_idd) + \".csv\")\n",
        "    print(\"0\")\n",
        "\n",
        "    dfffconf = pd.DataFrame(\n",
        "        list(zip(confleftelbowAng, confrightelbowAng, confleftShoulderAng, confrightShoulderAng,\n",
        "                  confleftKneeAng, confrightKneeAng, conftrunkAng, confneckAng\n",
        "                  # ,confleftelbowAng, confrightelbowAng, confleftShoulderAng,\n",
        "                  # confrightShoulderAng,\n",
        "                  # confleftKneeAng, confrightKneeAng, conftrunkAng,\n",
        "                  # confneckAng\n",
        "                  )),\n",
        "        columns=['LeftElbowconf', 'RightElbowconf', 'LeftShoulderconf', 'RightShoulderconf',\n",
        "                  'LeftKneeconf', 'RightKneeconf', 'Trunkconf', 'Neckconf'\n",
        "                  # ,'confleftelbowAng', 'confrightelbowAng', 'confleftShoulderAng', 'confrightShoulderAng',\n",
        "                  # 'confleftKneeAng', 'confrightKneeAng', 'conftrunkAng', 'confneckAng'\n",
        "                  ])\n",
        "\n",
        "    dfffconf.to_csv(path_folder2 + \"/conf_\" + str(person_idd) + \".csv\")\n",
        "    print(\"0\")\n",
        "\n",
        "    df4 = pd.DataFrame(\n",
        "        list(zip(acumleftelbowAng, acumrightelbowAng, acumleftShoulderAng, acumrightShoulderAng,\n",
        "            acumleftKneeAng, acumrightKneeAng, acumtrunkAng, acumneckAng)),\n",
        "        columns=['LeftElbowAng', 'RightElbowAng', 'LeftShoulderAng', 'RightShoulderAng',\n",
        "                  'LeftKneeAng', 'RightKneeAng', 'TrunkAng', 'NeckAng'\n",
        "                  ])\n",
        "    # print(df4)\n",
        "    df4.to_csv(path_folder2 + \"/df4_\" + str(person_idd) + \".csv\")\n",
        "    print(\"0\")\n",
        "scores_axes = dfffscore.plot()\n",
        "plt.savefig(path_folder2 + \"/scores_output_\" + str(person_idd) + \".png\")\n",
        "\n",
        "#_draw_plot(dfff), color=dfff['confleftelbowAng'], markersize=dfff['confrightelbowAng']\n",
        "fig, ax = plt.subplots()\n",
        "ax.plot(dfff['LeftElbowAng'], marker='.', markersize=2,\n",
        "        linestyle='None', label='leftelbowAng')\n",
        "ax.plot(dfff['RightElbowAng'], marker='.',\n",
        "        linestyle='None', label='rightelbowAng')\n",
        "fig.show()\n",
        "\n",
        "\n",
        "\n",
        "\n",
        "\n"
      ],
      "execution_count": 28,
      "outputs": [
        {
          "output_type": "stream",
          "text": [
            "# skeleton detected\n",
            "dict_keys([1])\n",
            "<class 'Exception'>\n"
          ],
          "name": "stdout"
        },
        {
          "output_type": "error",
          "ename": "NameError",
          "evalue": "ignored",
          "traceback": [
            "\u001b[0;31m---------------------------------------------------------------------------\u001b[0m",
            "\u001b[0;31mNameError\u001b[0m                                 Traceback (most recent call last)",
            "\u001b[0;32m<ipython-input-28-6bf1d33af86d>\u001b[0m in \u001b[0;36m<module>\u001b[0;34m()\u001b[0m\n\u001b[1;32m    326\u001b[0m         \u001b[0mscoreleftelbowAng\u001b[0m\u001b[0;34m.\u001b[0m\u001b[0mappend\u001b[0m\u001b[0;34m(\u001b[0m\u001b[0mleftelbowScore\u001b[0m\u001b[0;34m)\u001b[0m\u001b[0;34m\u001b[0m\u001b[0;34m\u001b[0m\u001b[0m\n\u001b[1;32m    327\u001b[0m         \u001b[0mscorerightelbowAng\u001b[0m\u001b[0;34m.\u001b[0m\u001b[0mappend\u001b[0m\u001b[0;34m(\u001b[0m\u001b[0mrightelbowScore\u001b[0m\u001b[0;34m)\u001b[0m\u001b[0;34m\u001b[0m\u001b[0;34m\u001b[0m\u001b[0m\n\u001b[0;32m--> 328\u001b[0;31m         \u001b[0mscoreleftShoulderAng\u001b[0m\u001b[0;34m.\u001b[0m\u001b[0mappend\u001b[0m\u001b[0;34m(\u001b[0m\u001b[0mleftShoulderScore\u001b[0m\u001b[0;34m)\u001b[0m\u001b[0;34m\u001b[0m\u001b[0;34m\u001b[0m\u001b[0m\n\u001b[0m\u001b[1;32m    329\u001b[0m         \u001b[0mscorerightShoulderAng\u001b[0m\u001b[0;34m.\u001b[0m\u001b[0mappend\u001b[0m\u001b[0;34m(\u001b[0m\u001b[0mrightShoulderScore\u001b[0m\u001b[0;34m)\u001b[0m\u001b[0;34m\u001b[0m\u001b[0;34m\u001b[0m\u001b[0m\n\u001b[1;32m    330\u001b[0m         \u001b[0mscoreleftKneeAng\u001b[0m\u001b[0;34m.\u001b[0m\u001b[0mappend\u001b[0m\u001b[0;34m(\u001b[0m\u001b[0mleftKneeScore\u001b[0m\u001b[0;34m)\u001b[0m\u001b[0;34m\u001b[0m\u001b[0;34m\u001b[0m\u001b[0m\n",
            "\u001b[0;31mNameError\u001b[0m: name 'leftShoulderScore' is not defined"
          ]
        }
      ]
    },
    {
      "cell_type": "code",
      "metadata": {
        "id": "pGDCLdAR6YGg"
      },
      "source": [
        "import shutil\n",
        "shutil.move(\"/content/vibe/output/joaco\", \"/content/drive/MyDrive/Colab Notebooks/VIBE_VIENA/joaco\")\n"
      ],
      "execution_count": null,
      "outputs": []
    },
    {
      "cell_type": "code",
      "metadata": {
        "id": "bp3fX6DoNDdM"
      },
      "source": [
        "dfffscore.describe()"
      ],
      "execution_count": null,
      "outputs": []
    }
  ]
}